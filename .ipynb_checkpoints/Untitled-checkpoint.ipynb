{
 "cells": [
  {
   "cell_type": "code",
   "execution_count": 45,
   "metadata": {},
   "outputs": [
    {
     "name": "stdout",
     "output_type": "stream",
     "text": [
      "[' ', 0.5403025793650794, 0.5403023058681398, 0.5403023058681398]\n"
     ]
    }
   ],
   "source": [
    "import math\n",
    "from decimal import *\n",
    "from prettytable import PrettyTable\n",
    "\n",
    "\n",
    "def taylorSeriesCos(x,n):\n",
    "    summation = 0\n",
    "    for i in range(0,n+1):\n",
    "        summation = (Decimal(((-1)**i))*(Decimal((x**(2*i)))/(Decimal(math.factorial(2*i))))) + summation\n",
    "    summation = float(summation)\n",
    "    return summation    \n",
    "\n",
    "def main():\n",
    "    valueOfXs = [0.25,0.5,1,2]\n",
    "    valueOfNs = [4,16,64]\n",
    "    cosoneforth=[]\n",
    "    cosonehalf =[]\n",
    "    cosone = [' ']\n",
    "    costwo = []\n",
    "    for w in range(0,len(valueOfNs)):\n",
    "        cosoneforth.append(taylorSeriesCos(0.25,valueOfNs[w]))\n",
    "        cosonehalf.append(taylorSeriesCos(0.5,valueOfNs[w]))\n",
    "        cosone.append(taylorSeriesCos(1,valueOfNs[w]))\n",
    "        costwo.append(taylorSeriesCos(2,valueOfNs[w]))\n",
    "    \n",
    "    \n",
    "    \n",
    "    print(cosone)\n",
    "    \n",
    "    table = PrettyTable()\n",
    "    table.field_names = [\"   \", \"x = 1/4\", \"x =1/2\", \"x = 1\", \"x = 2\"]\n",
    "    \n",
    "#     table.add_row(cosone)\n",
    "#     print(table)\n",
    "     \n",
    "    \n",
    "        \n",
    "        \n",
    "    \n",
    "main()\n"
   ]
  },
  {
   "cell_type": "code",
   "execution_count": null,
   "metadata": {},
   "outputs": [],
   "source": []
  },
  {
   "cell_type": "code",
   "execution_count": null,
   "metadata": {},
   "outputs": [],
   "source": []
  },
  {
   "cell_type": "code",
   "execution_count": null,
   "metadata": {},
   "outputs": [],
   "source": []
  },
  {
   "cell_type": "code",
   "execution_count": null,
   "metadata": {},
   "outputs": [],
   "source": []
  },
  {
   "cell_type": "code",
   "execution_count": null,
   "metadata": {},
   "outputs": [],
   "source": []
  },
  {
   "cell_type": "code",
   "execution_count": null,
   "metadata": {},
   "outputs": [],
   "source": []
  }
 ],
 "metadata": {
  "kernelspec": {
   "display_name": "Python 2",
   "language": "python",
   "name": "python2"
  },
  "language_info": {
   "codemirror_mode": {
    "name": "ipython",
    "version": 2
   },
   "file_extension": ".py",
   "mimetype": "text/x-python",
   "name": "python",
   "nbconvert_exporter": "python",
   "pygments_lexer": "ipython2",
   "version": "2.7.15"
  }
 },
 "nbformat": 4,
 "nbformat_minor": 2
}
